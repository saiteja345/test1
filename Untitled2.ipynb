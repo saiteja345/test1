{
 "cells": [
  {
   "cell_type": "code",
   "execution_count": 1,
   "metadata": {},
   "outputs": [],
   "source": [
    "import ipywidgets as widgets"
   ]
  },
  {
   "cell_type": "code",
   "execution_count": 3,
   "metadata": {},
   "outputs": [
    {
     "data": {
      "application/vnd.jupyter.widget-view+json": {
       "model_id": "88f9e8cfd56f43f68065744708f9b34f",
       "version_major": 2,
       "version_minor": 0
      },
      "text/plain": [
       "VkJveChjaGlsZHJlbj0oSFRNTCh2YWx1ZT11JyBBcHBsaWNhdGlvbiBGb3JtICcpLCBUZXh0KHZhbHVlPXUnJywgZGVzY3JpcHRpb249dSdOYW1lOicpLCBEYXRlUGlja2VyKHZhbHVlPU5vbmXigKY=\n"
      ]
     },
     "metadata": {},
     "output_type": "display_data"
    }
   ],
   "source": [
    "a=widgets.HTML(\" Application Form \")\n",
    "b=widgets.Text(description=\"Name:\")\n",
    "c=widgets.DatePicker(description=\"date of birth:\")\n",
    "d=widgets.RadioButtons(description=\"Gender\",options=[\"male\", \"female\"])\n",
    "e=widgets.Text(description=\"f.n\")\n",
    "f=widgets.Text(description=\"school\")\n",
    "g=widgets.Textarea(description=\"address\")\n",
    "i=widgets.Button(description=\"submit\")\n",
    "ap=widgets.VBox(children=[a,b,c,d,e,f,g,i])\n",
    "display(ap)"
   ]
  },
  {
   "cell_type": "code",
   "execution_count": 7,
   "metadata": {},
   "outputs": [
    {
     "name": "stdout",
     "output_type": "stream",
     "text": [
      "teja\n",
      "2017-12-30\n",
      "male\n",
      "dfh\n",
      "regterygzrs\n",
      "wgaet\n"
     ]
    }
   ],
   "source": [
    "print(b.value)\n",
    "print(c.value)\n",
    "print(d.value)\n",
    "print(e.value)\n",
    "print(f.value)\n",
    "print(g.value)\n"
   ]
  },
  {
   "cell_type": "code",
   "execution_count": 8,
   "metadata": {},
   "outputs": [],
   "source": [
    "def oi(b,c,d,e,f,g):\n",
    "    print(b)\n",
    "    print(c)\n",
    "    print(d)\n",
    "    print(e)\n",
    "    print(f)\n",
    "    print(g)\n"
   ]
  },
  {
   "cell_type": "code",
   "execution_count": 10,
   "metadata": {},
   "outputs": [
    {
     "name": "stdout",
     "output_type": "stream",
     "text": [
      "k\n",
      "l\n",
      "o\n",
      "p\n",
      "i\n",
      "j\n"
     ]
    }
   ],
   "source": [
    "oi(\"k\",\"l\",\"o\",\"p\",\"i\",\"j\")"
   ]
  },
  {
   "cell_type": "code",
   "execution_count": 12,
   "metadata": {},
   "outputs": [
    {
     "data": {
      "application/vnd.jupyter.widget-view+json": {
       "model_id": "e5b5b3a661634c9c8009aaec73481362",
       "version_major": 2,
       "version_minor": 0
      },
      "text/plain": [
       "aW50ZXJhY3RpdmUoY2hpbGRyZW49KFRleHQodmFsdWU9dSd0ZWphJywgZGVzY3JpcHRpb249dSdOYW1lOicpLCBEYXRlUGlja2VyKHZhbHVlPWRhdGV0aW1lLmRhdGUoMjAxNywgMTIsIDMwKSzigKY=\n"
      ]
     },
     "metadata": {},
     "output_type": "display_data"
    },
    {
     "data": {
      "text/plain": [
       "<function __main__.oi>"
      ]
     },
     "execution_count": 12,
     "metadata": {},
     "output_type": "execute_result"
    }
   ],
   "source": [
    "widgets.interact(oi,b=b,c=c,d=d,e=e,f=f,g=g)"
   ]
  },
  {
   "cell_type": "code",
   "execution_count": 28,
   "metadata": {},
   "outputs": [
    {
     "data": {
      "application/vnd.jupyter.widget-view+json": {
       "model_id": "b42e771b3fd94f6eb3d3abc2c3dd6bb4",
       "version_major": 2,
       "version_minor": 0
      },
      "text/plain": [
       "VBox(children=(IntSlider(value=65), IntSlider(value=29), Button(description=u'submit', style=ButtonStyle())))"
      ]
     },
     "metadata": {},
     "output_type": "display_data"
    },
    {
     "data": {
      "application/vnd.jupyter.widget-view+json": {
       "model_id": "3269ecf4d4e34f47b9eb4b1d614055a1",
       "version_major": 2,
       "version_minor": 0
      },
      "text/plain": [
       "aW50ZXJhY3RpdmUoY2hpbGRyZW49KEludFNsaWRlcih2YWx1ZT0wLCBkZXNjcmlwdGlvbj11J2EnKSwgSW50U2xpZGVyKHZhbHVlPTAsIGRlc2NyaXB0aW9uPXUnYicpLCBPdXRwdXQoKSksIF/igKY=\n"
      ]
     },
     "metadata": {},
     "output_type": "display_data"
    }
   ],
   "source": [
    "def add(a,b):\n",
    " print(a+b)\n",
    "def display1(self):\n",
    "    widgets.interact(add,a=a1.value,b=b1.value)\n",
    "j=widgets.Button(description=\"submit\")\n",
    "j.on_click(display1)\n",
    "\n",
    "display(o)"
   ]
  },
  {
   "cell_type": "code",
   "execution_count": 47,
   "metadata": {},
   "outputs": [],
   "source": [
    "# a1=widgets.IntSlider()\n",
    "# b1=widgets.IntSlider()\n"
   ]
  },
  {
   "cell_type": "code",
   "execution_count": 48,
   "metadata": {},
   "outputs": [
    {
     "data": {
      "application/vnd.jupyter.widget-view+json": {
       "model_id": "5670c6a22a2f4ee1b59499f12da86f4a",
       "version_major": 2,
       "version_minor": 0
      },
      "text/plain": [
       "VkJveChjaGlsZHJlbj0oSW50U2xpZGVyKHZhbHVlPTY3LCBkZXNjcmlwdGlvbj11J2EyJyksIEludFNsaWRlcih2YWx1ZT00MywgZGVzY3JpcHRpb249dSdiMicpLCBCdXR0b24oZGVzY3JpcHTigKY=\n"
      ]
     },
     "metadata": {},
     "output_type": "display_data"
    },
    {
     "data": {
      "application/vnd.jupyter.widget-view+json": {
       "model_id": "70c5a50bc0744d1a957d47fb5aa1bbc6",
       "version_major": 2,
       "version_minor": 0
      },
      "text/plain": [
       "aW50ZXJhY3RpdmUoY2hpbGRyZW49KEludFNsaWRlcih2YWx1ZT0wLCBkZXNjcmlwdGlvbj11J2EyJyksIEludFNsaWRlcih2YWx1ZT0wLCBkZXNjcmlwdGlvbj11J2IyJyksIE91dHB1dCgpKSzigKY=\n"
      ]
     },
     "metadata": {},
     "output_type": "display_data"
    }
   ],
   "source": []
  },
  {
   "cell_type": "code",
   "execution_count": null,
   "metadata": {},
   "outputs": [],
   "source": []
  }
 ],
 "metadata": {
  "kernelspec": {
   "display_name": "Python 3",
   "language": "python",
   "name": "python3"
  },
  "language_info": {
   "codemirror_mode": {
    "name": "ipython",
    "version": 3
   },
   "file_extension": ".py",
   "mimetype": "text/x-python",
   "name": "python",
   "nbconvert_exporter": "python",
   "pygments_lexer": "ipython3",
   "version": "3.7.3"
  }
 },
 "nbformat": 4,
 "nbformat_minor": 2
}
