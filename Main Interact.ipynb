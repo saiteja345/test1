{
 "cells": [
  {
   "cell_type": "code",
   "execution_count": 1,
   "metadata": {},
   "outputs": [
    {
     "name": "stderr",
     "output_type": "stream",
     "text": [
      "C:\\ProgramData\\Anaconda3\\lib\\site-packages\\pandas\\compat\\_optional.py:138: UserWarning: Pandas requires version '2.7.0' or newer of 'numexpr' (version '2.6.9' currently installed).\n",
      "  warnings.warn(msg, UserWarning)\n"
     ]
    }
   ],
   "source": [
    "import pandas as pd\n",
    "import ipywidgets as widgets"
   ]
  },
  {
   "cell_type": "code",
   "execution_count": 2,
   "metadata": {},
   "outputs": [
    {
     "data": {
      "application/vnd.jupyter.widget-view+json": {
       "model_id": "5eaf764924fc4ae899e7fca25bbf1453",
       "version_major": 2,
       "version_minor": 0
      },
      "text/plain": [
       "interactive(children=(FloatSlider(value=0.0, description='x'), IntSlider(value=0, description='y'), Output()),…"
      ]
     },
     "metadata": {},
     "output_type": "display_data"
    },
    {
     "data": {
      "text/plain": [
       "<function __main__.f(x, y)>"
      ]
     },
     "execution_count": 2,
     "metadata": {},
     "output_type": "execute_result"
    }
   ],
   "source": [
    "def f(x,y):\n",
    "    print(x+y)\n",
    "widgets.interact(f,x=widgets.FloatSlider(),y=widgets.IntSlider())"
   ]
  },
  {
   "cell_type": "code",
   "execution_count": 3,
   "metadata": {},
   "outputs": [
    {
     "data": {
      "application/vnd.jupyter.widget-view+json": {
       "model_id": "d7faf52891dd47da893f777aad487264",
       "version_major": 2,
       "version_minor": 0
      },
      "text/plain": [
       "VBox(children=(IntSlider(value=0), FloatSlider(value=0.0), Button(description='submit', style=ButtonStyle())))"
      ]
     },
     "metadata": {},
     "output_type": "display_data"
    },
    {
     "data": {
      "text/plain": [
       "'\\nthe problem when i click the submit button it is again giving me widgets and then value,\\nbut i dont want widgets i want only the value.\\n'"
      ]
     },
     "execution_count": 3,
     "metadata": {},
     "output_type": "execute_result"
    },
    {
     "data": {
      "application/vnd.jupyter.widget-view+json": {
       "model_id": "98e4541267ed435f9f4520a69b0c7654",
       "version_major": 2,
       "version_minor": 0
      },
      "text/plain": [
       "interactive(children=(IntSlider(value=0, description='x'), FloatSlider(value=0.0, description='y'), Output()),…"
      ]
     },
     "metadata": {},
     "output_type": "display_data"
    },
    {
     "data": {
      "application/vnd.jupyter.widget-view+json": {
       "model_id": "0f9086f5fdca44eea681cac6e9c78656",
       "version_major": 2,
       "version_minor": 0
      },
      "text/plain": [
       "interactive(children=(IntSlider(value=0, description='x'), FloatSlider(value=0.0, description='y'), Output()),…"
      ]
     },
     "metadata": {},
     "output_type": "display_data"
    },
    {
     "data": {
      "application/vnd.jupyter.widget-view+json": {
       "model_id": "040bf5ec0c614bbc9e80ad083826474f",
       "version_major": 2,
       "version_minor": 0
      },
      "text/plain": [
       "interactive(children=(IntSlider(value=0, description='x'), FloatSlider(value=0.0, description='y'), Output()),…"
      ]
     },
     "metadata": {},
     "output_type": "display_data"
    }
   ],
   "source": [
    "def f(x,y):\n",
    "    print(x+y)\n",
    "x=widgets.IntSlider()\n",
    "y=widgets.FloatSlider()\n",
    "h=widgets.Button(description=\"submit\")\n",
    "\n",
    "# bg=widgets.VBox([x,y,h])\n",
    "# display(bg)\n",
    "def inet(self):\n",
    "    widgets.interact(f,x=x,y=y)\n",
    "h.on_click(inet)\n",
    "display(x)\n",
    "display(y)\n",
    "display(h)\n",
    "\"\"\"\n",
    "the problem when i click the submit button it is again giving me widgets and then value,\n",
    "but i dont want widgets i want only the value.\n",
    "\"\"\""
   ]
  },
  {
   "cell_type": "code",
   "execution_count": 15,
   "metadata": {},
   "outputs": [
    {
     "data": {
      "application/vnd.jupyter.widget-view+json": {
       "model_id": "3d8435773b7c4d97a6a62d7312c6b378",
       "version_major": 2,
       "version_minor": 0
      },
      "text/plain": [
       "Text(value='', description='Name')"
      ]
     },
     "metadata": {},
     "output_type": "display_data"
    },
    {
     "data": {
      "application/vnd.jupyter.widget-view+json": {
       "model_id": "0b49888b0fb74bd786c4ecc114ab4014",
       "version_major": 2,
       "version_minor": 0
      },
      "text/plain": [
       "Button(description='Greet', style=ButtonStyle())"
      ]
     },
     "metadata": {},
     "output_type": "display_data"
    }
   ],
   "source": [
    "y=widgets.Text(description=\"Name\")\n",
    "def greet(self):\n",
    "    print(\"hello \"+str(y.value))\n",
    "h= widgets.Button(description=\"Greet\")\n",
    "display(y)\n",
    "display(h)\n",
    "h.on_click(greet)"
   ]
  },
  {
   "cell_type": "code",
   "execution_count": 13,
   "metadata": {
    "scrolled": true
   },
   "outputs": [
    {
     "data": {
      "application/vnd.jupyter.widget-view+json": {
       "model_id": "0ab1f40d5e55434cbb38d75a46c8d591",
       "version_major": 2,
       "version_minor": 0
      },
      "text/plain": [
       "HBox(children=(FloatSlider(value=0.0), FloatSlider(value=0.0), FloatSlider(value=0.0), Button(description='Sub…"
      ]
     },
     "metadata": {},
     "output_type": "display_data"
    },
    {
     "name": "stdout",
     "output_type": "stream",
     "text": [
      "2310.2099400299853\n"
     ]
    }
   ],
   "source": [
    "x=widgets.FloatSlider()\n",
    "y=widgets.FloatSlider()\n",
    "z=widgets.FloatSlider()\n",
    "k=widgets.Button(description=\"Submit\")\n",
    "def eq1(self):\n",
    "    print(2*y.value+(8/x.value)+z.value**2)\n",
    "f=widgets.HBox([x,y,z,k])\n",
    "display(f)\n",
    "k.on_click(eq1)"
   ]
  },
  {
   "cell_type": "code",
   "execution_count": 16,
   "metadata": {},
   "outputs": [
    {
     "data": {
      "application/vnd.jupyter.widget-view+json": {
       "model_id": "5c9ff3a1c5e14411845ed9619b46486d",
       "version_major": 2,
       "version_minor": 0
      },
      "text/plain": [
       "VBox(children=(HBox(children=(FloatSlider(value=0.0), FloatSlider(value=0.0), RadioButtons(description='Choose…"
      ]
     },
     "metadata": {},
     "output_type": "display_data"
    },
    {
     "name": "stdout",
     "output_type": "stream",
     "text": [
      "1562.88\n"
     ]
    }
   ],
   "source": [
    "g=widgets.RadioButtons(description=\"Choose:\",options=[\"add\",\"sub\",\"Multiply\"])\n",
    "j=widgets.Button(description=\"Submit\")\n",
    "k=widgets.FloatSlider()\n",
    "s=widgets.FloatSlider()\n",
    "d=widgets.VBox([widgets.HBox([k,s,g]),j])\n",
    "display(d)\n",
    "def eq(self):\n",
    "    if g.value==\"add\":\n",
    "        print(k.value+s.value)\n",
    "    elif g.value==\"sub\":\n",
    "        print(k.value-s.value)\n",
    "    elif g.value==\"Multiply\":\n",
    "        print(k.value*s.value)\n",
    "j.on_click(eq)"
   ]
  },
  {
   "cell_type": "code",
   "execution_count": 4,
   "metadata": {},
   "outputs": [
    {
     "data": {
      "application/vnd.jupyter.widget-view+json": {
       "model_id": "627f1b493ccd448ba0968b2a80d5b518",
       "version_major": 2,
       "version_minor": 0
      },
      "text/plain": [
       "VBox(children=(IntSlider(value=0), FloatSlider(value=0.0), Button(description='submit', style=ButtonStyle())))"
      ]
     },
     "metadata": {},
     "output_type": "display_data"
    }
   ],
   "source": [
    "x=widgets.IntSlider()\n",
    "y=widgets.FloatSlider()\n",
    "h=widgets.Button(description=\"submit\")\n",
    "def f():\n",
    "    print(x.value+y.value)\n",
    "# display(x)\n",
    "# display(y)\n",
    "# display(h)\n",
    "bg=widgets.VBox([x,y,h])\n",
    "display(bg)\n",
    "def inet(self):\n",
    "    widgets.interact(f)\n",
    "h.on_click(inet)\n",
    "# \"\"\"\n",
    "# the problem when i click the submit button it is again giving me widgets and then value,\n",
    "# but i dont want widgets i want only the value.\n",
    "#\"\"\""
   ]
  },
  {
   "cell_type": "code",
   "execution_count": 5,
   "metadata": {},
   "outputs": [
    {
     "data": {
      "application/vnd.jupyter.widget-view+json": {
       "model_id": "62a40eadff6b4ddab9e2146439b31f66",
       "version_major": 2,
       "version_minor": 0
      },
      "text/plain": [
       "VBox(children=(IntSlider(value=0), FloatSlider(value=0.0), Button(description='submit', style=ButtonStyle()), …"
      ]
     },
     "metadata": {},
     "output_type": "display_data"
    }
   ],
   "source": [
    "x=widgets.IntSlider()\n",
    "y=widgets.FloatSlider()\n",
    "s=widgets.Text(description=\"result :\")\n",
    "h=widgets.Button(description=\"submit\")\n",
    "def f():\n",
    "    s.value=str(x.value+y.value)\n",
    "# display(x)\n",
    "# display(y)\n",
    "# display(h)\n",
    "bg=widgets.VBox([x,y,h,s])\n",
    "display(bg)\n",
    "def inet(self):\n",
    "    widgets.interact(f)\n",
    "h.on_click(inet)\n",
    "# \"\"\"\n",
    "# the problem when i click the submit button it is again giving me widgets and then value,\n",
    "# but i dont want widgets i want only the value.\n",
    "#\"\"\""
   ]
  },
  {
   "cell_type": "code",
   "execution_count": 6,
   "metadata": {},
   "outputs": [
    {
     "data": {
      "application/vnd.jupyter.widget-view+json": {
       "model_id": "4b189021d8b74f07ae6009fecca2c721",
       "version_major": 2,
       "version_minor": 0
      },
      "text/plain": [
       "interactive(children=(Checkbox(value=True, description='x'), Output()), _dom_classes=('widget-interact',))"
      ]
     },
     "metadata": {},
     "output_type": "display_data"
    },
    {
     "data": {
      "text/plain": [
       "<function __main__.f(x)>"
      ]
     },
     "execution_count": 6,
     "metadata": {},
     "output_type": "execute_result"
    }
   ],
   "source": [
    "def f(x):\n",
    "    print(x+1)\n",
    "widgets.interact(f,x=True)"
   ]
  },
  {
   "cell_type": "code",
   "execution_count": 7,
   "metadata": {},
   "outputs": [
    {
     "data": {
      "application/vnd.jupyter.widget-view+json": {
       "model_id": "37f4aaa80de2474181a8a34880ea1e7a",
       "version_major": 2,
       "version_minor": 0
      },
      "text/plain": [
       "VBox(children=(IntSlider(value=0), IntSlider(value=0), Button(description='submit', style=ButtonStyle()), Text…"
      ]
     },
     "metadata": {},
     "output_type": "display_data"
    }
   ],
   "source": [
    "import ipywidgets as widgets\n",
    "a1=widgets.IntSlider()\n",
    "b1=widgets.IntSlider()\n",
    "j=widgets.Button(description=\"submit\")\n",
    "j1=widgets.Text(description=\"value:\")\n",
    "display(widgets.VBox([a1,b1,j,j1]))\n",
    "def add():\n",
    " j1.value=str(a1.value+b1.value)\n",
    "#  print( str(a1.value+b1.value))\n",
    "\n",
    "def display1(self):\n",
    "    widgets.interact(add)\n",
    "j.on_click(display1)\n"
   ]
  },
  {
   "cell_type": "code",
   "execution_count": 17,
   "metadata": {},
   "outputs": [
    {
     "data": {
      "application/vnd.jupyter.widget-view+json": {
       "model_id": "7a43f11791564162af7202f77f4b0fa4",
       "version_major": 2,
       "version_minor": 0
      },
      "text/plain": [
       "VBox(children=(HTML(value='<H1>Application Form</H1>'), Text(value='', description='Name:'), DatePicker(value=…"
      ]
     },
     "metadata": {},
     "output_type": "display_data"
    },
    {
     "data": {
      "application/vnd.jupyter.widget-view+json": {
       "model_id": "769156c7dc5d4bcd86be7127de05ac9f",
       "version_major": 2,
       "version_minor": 0
      },
      "text/plain": [
       "interactive(children=(Output(),), _dom_classes=('widget-interact',))"
      ]
     },
     "metadata": {},
     "output_type": "display_data"
    }
   ],
   "source": [
    "import ipywidgets as w\n",
    "a1=w.HTML(\"<H1>Application Form</H1>\")\n",
    "b1=w.Text(description=\"Name:\")\n",
    "c1=w.DatePicker(description=\"Date of Birth\")#this the date picker code in ipywidget\n",
    "d1=w.RadioButtons(description=\"Gender\",options=[\" Male\",\"Female\"])\n",
    "e1=w.Text(description=\"F.N:\",value=\"Name\")\n",
    "f1=w.Text(description=\"School\")\n",
    "g1=w.Textarea(description=\"Address\")\n",
    "h1=w.Button(description=\"Submit\")\n",
    "h3=w.Textarea(description=\"Values\")\n",
    "display(w.VBox([a1,b1,c1,d1,e1,f1,g1,h1,h3]))\n",
    "def prt():\n",
    "    h3.value=(\"{}...{}...{}...{}...{}...{}\"\n",
    "              .format(b1.value,c1.value,d1.value,e1.value,(f1.value),(g1.value)))\n",
    "def display2(self):\n",
    "    w.interact(prt)\n",
    "h1.on_click(display2)"
   ]
  },
  {
   "cell_type": "code",
   "execution_count": 9,
   "metadata": {},
   "outputs": [
    {
     "data": {
      "application/vnd.jupyter.widget-view+json": {
       "model_id": "094ca9b0000b48ebad17ddbbc0cf1b6e",
       "version_major": 2,
       "version_minor": 0
      },
      "text/plain": [
       "HTML(value='<h1>hii</h1>')"
      ]
     },
     "metadata": {},
     "output_type": "display_data"
    }
   ],
   "source": [
    "w.HTML(\"<h1>hii</h1>\")"
   ]
  },
  {
   "cell_type": "code",
   "execution_count": 4,
   "metadata": {
    "scrolled": true
   },
   "outputs": [
    {
     "data": {
      "application/vnd.jupyter.widget-view+json": {
       "model_id": "e895e8c0770949f9b05d173fc475f6ab",
       "version_major": 2,
       "version_minor": 0
      },
      "text/plain": [
       "VBox(children=(HTML(value='<H1>Application Form</H1>'), Text(value='', description='Name:'), DatePicker(value=…"
      ]
     },
     "metadata": {},
     "output_type": "display_data"
    }
   ],
   "source": [
    "import ipywidgets as w\n",
    "a1=w.HTML(\"<H1>Application Form</H1>\")\n",
    "b1=w.Text(description=\"Name:\")\n",
    "c1=w.DatePicker(description=\"Date of Birth\")\n",
    "d1=w.RadioButtons(description=\"Gender\",options=[\" Male\",\"Female\"])\n",
    "e1=w.Text(description=\"F.N:\",value=\"Name\")\n",
    "f1=w.Text(description=\"School\")\n",
    "g1=w.Textarea(description=\"Address\")\n",
    "h1=w.Button(description=\"Submit\")\n",
    "h4=w.Button(description=\"Export\")\n",
    "h3=w.Textarea(description=\"Values\")\n",
    "display(w.VBox([a1,b1,c1,d1,e1,f1,g1,h1,h4]))\n",
    "df=pd.DataFrame([[\"Name\",\"Date of Birth\",\"Gender\",\"F.N:\",\"School\",\"Address\"]],\n",
    "                    columns=[\"Name\",\"Date of Birth\",\"Gender\",\"F.N:\",\"School\",\"Address\"]\n",
    "               )\n",
    "#df.columns=[\"Name\",\"Date of Birth\",\"Gender\",\"F.N:\",\"School\",\"Address\"]\n",
    "s=1\n",
    "\n",
    "def prt():\n",
    "    #h3.value=(\"{}...{}...{}...{}...{}...{}\".format(b1.value,c1.value,d1.value,e1.value,(f1.value),(g1.value)))\n",
    "    global s\n",
    "\n",
    "    df.loc[s]=[b1.value,c1.value,d1.value,e1.value,f1.value,g1.value]\n",
    "    s=s+1\n",
    "   \n",
    "def display2(self):\n",
    "    w.interact(prt)\n",
    "def Export(self):\n",
    "    df.to_clipboard()\n",
    "h1.on_click(display2)\n",
    "h4.on_click(Export)"
   ]
  },
  {
   "cell_type": "markdown",
   "metadata": {},
   "source": [
    "# Income Tax calculator"
   ]
  },
  {
   "cell_type": "code",
   "execution_count": 20,
   "metadata": {},
   "outputs": [
    {
     "data": {
      "application/vnd.jupyter.widget-view+json": {
       "model_id": "7e2d29c1a81f4ade9c97163a847fbdb9",
       "version_major": 2,
       "version_minor": 0
      },
      "text/plain": [
       "Button(description='Taxable amount', style=ButtonStyle())"
      ]
     },
     "metadata": {},
     "output_type": "display_data"
    }
   ],
   "source": [
    "I=widgets.FloatText(description=\"Income\")\n",
    "def it(self):\n",
    "    i=I.value/100000\n",
    "    if i>=0 and i<=2.5:\n",
    "        z=i*0\n",
    "    elif i>2.5 and i<=5:\n",
    "        z=(i-2.5)*0.05\n",
    "    elif i>5 and i<=7.5:\n",
    "        z=(i-5)*0.1+(2.5)*0.05\n",
    "    elif i>7.5 and i<=10:\n",
    "        z=(i-7.5)*0.15+(5)*0.1+(2.5)*0.05\n",
    "    elif i>10 and i<=12.5:\n",
    "        z=(i-10)*0.2+(7.5)*0.15+(5)*0.1+(2.5)*0.05\n",
    "    elif i>12.5 and i<=15:\n",
    "        z=(i-12.5)*0.25+(10)*0.2+(7.5)*0.15+(5)*0.1+(2.5)*0.05\n",
    "    elif i>15:\n",
    "         z=(i-15)*0.3+(12.5)*0.25+(10)*0.2+(7.5)*0.15+(5)*0.1+(2.5)*0.05\n",
    "    print(\"Tax amount :\"+str(z))\n",
    "v=widgets.Button(description=\"Taxable amount\")\n",
    "display(v)\n",
    "v.on_click(it)"
   ]
  },
  {
   "cell_type": "code",
   "execution_count": null,
   "metadata": {},
   "outputs": [],
   "source": []
  }
 ],
 "metadata": {
  "kernelspec": {
   "display_name": "Python 3",
   "language": "python",
   "name": "python3"
  },
  "language_info": {
   "codemirror_mode": {
    "name": "ipython",
    "version": 3
   },
   "file_extension": ".py",
   "mimetype": "text/x-python",
   "name": "python",
   "nbconvert_exporter": "python",
   "pygments_lexer": "ipython3",
   "version": "3.7.3"
  }
 },
 "nbformat": 4,
 "nbformat_minor": 2
}
