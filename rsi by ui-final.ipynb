{
 "cells": [
  {
   "cell_type": "markdown",
   "metadata": {},
   "source": [
    "# RSI strategy checking with ui:"
   ]
  },
  {
   "cell_type": "code",
   "execution_count": 1,
   "metadata": {},
   "outputs": [
    {
     "name": "stderr",
     "output_type": "stream",
     "text": [
      "C:\\ProgramData\\Anaconda3\\lib\\site-packages\\pandas\\compat\\_optional.py:138: UserWarning: Pandas requires version '2.7.0' or newer of 'numexpr' (version '2.6.9' currently installed).\n",
      "  warnings.warn(msg, UserWarning)\n"
     ]
    }
   ],
   "source": [
    "import ipywidgets as w\n",
    "import matplotlib.pyplot as plt\n",
    "import nsepy as np\n",
    "import ta\n",
    "import pandas as pd\n",
    "import quandl as qd\n",
    "#import os\n",
    "#from numba import jit\n",
    "qd.ApiConfig.api_key = \"wB-ALcjjV4LxLh-NiNca\"\n",
    "\n",
    "def bt(si,vi):\n",
    "    buyprice=0.0\n",
    "    sellprice = 0.0\n",
    "    cash = 1\n",
    "    stock = 0\n",
    "    # sma = 200\n",
    "    mawealth = 1.0\n",
    "    buy_data=[]\n",
    "    sell_data=[] \n",
    "    trade_price=[]\n",
    "    wealth=[]\n",
    "    z=qd.get(\"NSE/{}\".format(str(f.value)),start_date=s.value,end_date=e.value)\n",
    "    used=pd.DataFrame(z)\n",
    "    rsi =pd.DataFrame(ta.rsi(z.Close))\n",
    "    j=pd.merge(left=rsi,right=used,on=used.index)\n",
    "    # MA = used.rolling(window=sma,center=False).mean()\n",
    "    # j=pd.concat(used,rsi).dropna()\n",
    "    N = int(j[\"Close\"].count())\n",
    "    for x in range(N):\n",
    "        if j[\"rsi\"][x] <= si and cash==1:\n",
    "            buyprice=j[\"Close\"][x+1]\n",
    "\n",
    "            buy_data.append(buyprice)\n",
    "            trade_price.append(buyprice)\n",
    "            cash=0.0\n",
    "            stock = 1\n",
    "        elif j[\"rsi\"][x] >= vi and stock ==1:\n",
    "\n",
    "            sellprice = j[\"Close\"][x+1]\n",
    "\n",
    "            sell_data.append(sellprice)\n",
    "            trade_price.append(sellprice)\n",
    "            stock = 0\n",
    "            cash = 1\n",
    "            mawealth = mawealth*(sellprice/buyprice)\n",
    "            wealth.append(mawealth)\n",
    "\n",
    "    wi=pd.DataFrame(wealth)\n",
    "    wealth\n",
    "\n",
    "    plt.plot(wi,\"r--\")\n",
    "    plt.ylabel(\"wealth\")\n",
    "    plt.xlabel(\"Transaction\")\n",
    "    plt.title(\"Profit from the strategy for : {}\".format(f.value))\n",
    "    plt.grid()\n",
    "    print(\"End Capital :\"+str(wealth[-1]))\n",
    "    print(\"Max drawdown :\"+str(pd.Series(wealth).min()))\n",
    "    print(\"No of positions closed:\"+str(len(trade_price)/2))\n",
    "#     print(buy_data)\n",
    "#     print(sell_data)\n",
    "#     print(trade_price)\n",
    "#     print(wealth)"
   ]
  },
  {
   "cell_type": "code",
   "execution_count": 8,
   "metadata": {
    "scrolled": true
   },
   "outputs": [
    {
     "data": {
      "application/vnd.jupyter.widget-view+json": {
       "model_id": "84e5c57487e2441dbe0238456c6da18e",
       "version_major": 2,
       "version_minor": 0
      },
      "text/plain": [
       "VBox(children=(Dropdown(description='Stock :', options=('3MINDIA', 'ABB', 'ACC', 'AIAENG', 'APLAPOLLO', 'AUBAN…"
      ]
     },
     "metadata": {},
     "output_type": "display_data"
    },
    {
     "data": {
      "application/vnd.jupyter.widget-view+json": {
       "model_id": "9e6276e1886a4872b4a52f0f48e6d393",
       "version_major": 2,
       "version_minor": 0
      },
      "text/plain": [
       "interactive(children=(Output(),), _dom_classes=('widget-interact',))"
      ]
     },
     "metadata": {},
     "output_type": "display_data"
    },
    {
     "data": {
      "application/vnd.jupyter.widget-view+json": {
       "model_id": "93f6c1c625e94e74bc0566ef9964bf08",
       "version_major": 2,
       "version_minor": 0
      },
      "text/plain": [
       "interactive(children=(IntSlider(value=30, continuous_update=False, description='Overselling', max=50, min=10),…"
      ]
     },
     "metadata": {},
     "output_type": "display_data"
    },
    {
     "data": {
      "application/vnd.jupyter.widget-view+json": {
       "model_id": "421ef36e3a564c099d48f7aaca6229d4",
       "version_major": 2,
       "version_minor": 0
      },
      "text/plain": [
       "interactive(children=(IntSlider(value=30, description='Buying rsi', max=50, min=10), IntSlider(value=70, descr…"
      ]
     },
     "metadata": {},
     "output_type": "display_data"
    }
   ],
   "source": [
    "try:\n",
    "    \n",
    "    button = w.Button( description='Submit',)\n",
    "    f=w.Dropdown(options=list(pd.read_csv(\"nifty500list.csv\").Symbol),description=\"Stock :\")\n",
    "    s=w.DatePicker(description=\"Start date:\")\n",
    "    e=w.DatePicker(description=\"end date :\")\n",
    "    button.style.button_color=\"lightgreen\"\n",
    "    page=w.VBox([f,s,e,button])\n",
    "    display(page)\n",
    "    def u():\n",
    "        plt.figure(1,figsize=(20,10))\n",
    "        plt.subplot(211)\n",
    "        plt.plot(qd.get(\"NSE/{}\".format(str(f.value)),start_date=s.value,end_date=e.value).Close)\n",
    "\n",
    "        plt.title(\"{}\".format(f.value))\n",
    "        plt.show()\n",
    "\n",
    "    \n",
    "    def i(self):\n",
    "        w.interact(u)\n",
    "        w.interact(rsi,i=w.IntSlider(min=10,max=50,value=30,continuous_update=False,description=\"Overselling\"),j=w.IntSlider(min=60,max=100,value=70,continuous_update=False,description=\"OverBuying\"))\n",
    "        w.interact(bt,si=w.IntSlider(min=10,max=50,value=30,description=\"Buying rsi\"),vi=w.IntSlider(min=50,max=95,value=70,description=\"Selling rsi\"))\n",
    "    def rsi(i,j):\n",
    "        plt.figure(2,figsize=(20,5))\n",
    "        plt.plot(ta.rsi(qd.get(\"NSE/{}\".format(str(f.value)),start_date=s.value,end_date=e.value).Close))\n",
    "        plt.axhline(y=i,color=\"green\")\n",
    "        plt.axhline(y=j,color=\"red\")\n",
    "        plt.ylim((0,100))\n",
    "        plt.title(\"{} rsi\".format(f.value))\n",
    "    #     plt.plot(ta.bollinger_lband(np.get_history(f.value,s.value,e.value).Close,n=i))\n",
    "        plt.show()\n",
    "    #w.interact(rsi,i=w.IntSlider(min=10,max=50,value=30,continuous_update=False,description=\"Overselling\"),j=w.IntSlider(min=60,max=100,value=70,continuous_update=False,description=\"OverBuying\"))\n",
    "    button.on_click(i)\n",
    "except:\n",
    "    pass"
   ]
  },
  {
   "cell_type": "code",
   "execution_count": null,
   "metadata": {},
   "outputs": [],
   "source": [
    "# rsi\n",
    "# macd\n",
    "# supertrend\n",
    "# adx\n",
    "# movingaverage(0,200)\n",
    "# exponential moving average(0,200)"
   ]
  },
  {
   "cell_type": "code",
   "execution_count": null,
   "metadata": {},
   "outputs": [],
   "source": [
    "qd.get('NSE/SBIN',)"
   ]
  },
  {
   "cell_type": "code",
   "execution_count": null,
   "metadata": {},
   "outputs": [],
   "source": []
  }
 ],
 "metadata": {
  "kernelspec": {
   "display_name": "Python 3",
   "language": "python",
   "name": "python3"
  },
  "language_info": {
   "codemirror_mode": {
    "name": "ipython",
    "version": 3
   },
   "file_extension": ".py",
   "mimetype": "text/x-python",
   "name": "python",
   "nbconvert_exporter": "python",
   "pygments_lexer": "ipython3",
   "version": "3.7.3"
  }
 },
 "nbformat": 4,
 "nbformat_minor": 2
}
