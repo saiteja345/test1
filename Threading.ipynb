{
 "cells": [
  {
   "cell_type": "markdown",
   "metadata": {},
   "source": [
    "# Threading\n"
   ]
  },
  {
   "cell_type": "markdown",
   "metadata": {},
   "source": [
    "In Python it is possible to create multiple processes and set them to work simultaneously, in the same way it is possible to create multiple threads and set them to execute different parts if the program simultaneously.\n",
    "Every thing the task or part of the program run simultaneously is known as concurrent programming."
   ]
  },
  {
   "cell_type": "markdown",
   "metadata": {},
   "source": [
    "Creation of threads in python"
   ]
  },
  {
   "cell_type": "markdown",
   "metadata": {},
   "source": [
    "Creating a thread without class"
   ]
  },
  {
   "cell_type": "code",
   "execution_count": 39,
   "metadata": {},
   "outputs": [
    {
     "name": "stdout",
     "output_type": "stream",
     "text": [
      "Hello world0\n",
      "Hello world1\n",
      "Hello world2\n",
      "Hello world3Hello world4\n",
      "\n",
      "Hello world5\n"
     ]
    }
   ],
   "source": [
    "from threading import *\n",
    "def Running(s):\n",
    "    print(\"Hello world\"+str(s))\n",
    "for i in range(6):\n",
    "    t=Thread(target=Running, args=(i,))]\n",
    "    t.start()"
   ]
  },
  {
   "cell_type": "markdown",
   "metadata": {},
   "source": [
    "Creating a Thread by creating a sub class to thread class"
   ]
  },
  {
   "cell_type": "code",
   "execution_count": 96,
   "metadata": {},
   "outputs": [
    {
     "name": "stdout",
     "output_type": "stream",
     "text": [
      "Hello world1\n",
      "Hello world2\n",
      "Hello world3\n",
      "Hello world4\n",
      "Hello world5\n"
     ]
    }
   ],
   "source": [
    "from threading import Thread\n",
    "class my_Thread(Thread):\n",
    "    def run(self):\n",
    "        for i in range(1,6):\n",
    "            print(\"Hello world\"+str(i))\n",
    "t2= my_Thread()\n",
    "\n",
    "t2.run()\n"
   ]
  },
  {
   "cell_type": "markdown",
   "metadata": {},
   "source": [
    "Creating a Thread without Creating Subclass to Thread Class"
   ]
  },
  {
   "cell_type": "code",
   "execution_count": 8,
   "metadata": {},
   "outputs": [
    {
     "name": "stdout",
     "output_type": "stream",
     "text": [
      "Hello world1\n",
      "Hello world2\n",
      "Hello world3\n",
      "Hello world4\n",
      "Hello world5\n",
      "Hello\n",
      "The args are 1,2\n"
     ]
    }
   ],
   "source": [
    "from threading import *\n",
    "class mythread:\n",
    "    def __init__ (self,str):\n",
    "        self.str=str\n",
    "    def display(self,x,y):\n",
    "        print(self.str)\n",
    "        print(\"The args are {},{}\".format(x,y))\n",
    "obj=mythread(\"Hello\")\n",
    "t3=Thread(target=obj.display,args=(1,2))\n",
    "t2.start()\n",
    "t3.start()"
   ]
  },
  {
   "cell_type": "markdown",
   "metadata": {},
   "source": [
    "Thread Class Methods"
   ]
  },
  {
   "cell_type": "markdown",
   "metadata": {},
   "source": [
    "t.start()- starts the thread and invokes a seperate thread to the control.(should be started only once)"
   ]
  },
  {
   "cell_type": "markdown",
   "metadata": {},
   "source": [
    "t.join()-Waits untill the thread terminates or timeout occurs"
   ]
  },
  {
   "cell_type": "markdown",
   "metadata": {},
   "source": [
    "t.is_alive()- Returns True if it is present in memory else False"
   ]
  },
  {
   "cell_type": "code",
   "execution_count": null,
   "metadata": {},
   "outputs": [],
   "source": []
  }
 ],
 "metadata": {
  "kernelspec": {
   "display_name": "Python 3",
   "language": "python",
   "name": "python3"
  },
  "language_info": {
   "codemirror_mode": {
    "name": "ipython",
    "version": 3
   },
   "file_extension": ".py",
   "mimetype": "text/x-python",
   "name": "python",
   "nbconvert_exporter": "python",
   "pygments_lexer": "ipython3",
   "version": "3.7.3"
  }
 },
 "nbformat": 4,
 "nbformat_minor": 2
}
